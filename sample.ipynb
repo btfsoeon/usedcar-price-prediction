{
 "cells": [
  {
   "cell_type": "code",
   "execution_count": 44,
   "id": "af188a17",
   "metadata": {},
   "outputs": [],
   "source": [
    "import csv\n",
    "import gzip\n",
    "from datetime import datetime as dt\n",
    "import numpy as np\n",
    "import pandas as pd"
   ]
  },
  {
   "cell_type": "code",
   "execution_count": 45,
   "id": "8c19cdd0",
   "metadata": {},
   "outputs": [],
   "source": [
    "dataDir = \"car_prices.csv.gz\""
   ]
  },
  {
   "cell_type": "code",
   "execution_count": 55,
   "id": "cb65bacc",
   "metadata": {},
   "outputs": [],
   "source": [
    "dataset = []\n",
    "header = []\n",
    "count = 0\n",
    "errCount = 0\n",
    "\n",
    "with gzip.open(dataDir, 'rt', encoding=\"utf8\") as file:\n",
    "    reader = csv.reader(file)\n",
    "    for row in reader:\n",
    "        if count == 0:\n",
    "            header = row\n",
    "        else:\n",
    "            d = dict(zip(header, row))\n",
    "            try:\n",
    "                d['year'] = int(d['year'])\n",
    "                d['condition'] = float(d['condition'])\n",
    "                d['odometer'] = int(d['odometer'])\n",
    "                d['mmr'] = int(d['mmr'])\n",
    "                d['sellingprice'] = int(d['sellingprice'])\n",
    "                d['saledate'] = ' '.join(d['saledate'].split(' ')[:5])\n",
    "                d['saledate'] = dt.strptime(d['saledate'], '%a %b %d %Y %H:%M:%S')\n",
    "            except ValueError: # remove problematic data\n",
    "                errCount += 1\n",
    "                continue\n",
    "            dataset.append(d)\n",
    "        count += 1"
   ]
  },
  {
   "cell_type": "code",
   "execution_count": 48,
   "id": "f7f45f34",
   "metadata": {},
   "outputs": [
    {
     "data": {
      "text/plain": [
       "{'year': 2008,\n",
       " 'make': 'Honda',\n",
       " 'model': 'Accord',\n",
       " 'trim': 'EX-L',\n",
       " 'body': 'Sedan',\n",
       " 'transmission': 'automatic',\n",
       " 'vin': 'jhmcp26878c032485',\n",
       " 'state': 'ca',\n",
       " 'condition': 2.5,\n",
       " 'odometer': 114179,\n",
       " 'color': 'green',\n",
       " 'interior': 'black',\n",
       " 'seller': 'ahfc/honda lease trust/hvt, inc.',\n",
       " 'mmr': 8650,\n",
       " 'sellingprice': 8600,\n",
       " 'saledate': datetime.datetime(2014, 12, 18, 12, 0)}"
      ]
     },
     "execution_count": 48,
     "metadata": {},
     "output_type": "execute_result"
    }
   ],
   "source": [
    "dataset[2895]"
   ]
  },
  {
   "cell_type": "code",
   "execution_count": 56,
   "id": "f76b9518",
   "metadata": {},
   "outputs": [
    {
     "data": {
      "text/plain": [
       "11849"
      ]
     },
     "execution_count": 56,
     "metadata": {},
     "output_type": "execute_result"
    }
   ],
   "source": [
    "errCount"
   ]
  },
  {
   "cell_type": "code",
   "execution_count": 57,
   "id": "7874aafc",
   "metadata": {},
   "outputs": [
    {
     "data": {
      "text/plain": [
       "546989"
      ]
     },
     "execution_count": 57,
     "metadata": {},
     "output_type": "execute_result"
    }
   ],
   "source": [
    "count"
   ]
  },
  {
   "cell_type": "code",
   "execution_count": 49,
   "id": "ebefda68",
   "metadata": {},
   "outputs": [],
   "source": [
    "df = pd.DataFrame(dataset)"
   ]
  },
  {
   "cell_type": "code",
   "execution_count": 50,
   "id": "7959cc92",
   "metadata": {},
   "outputs": [
    {
     "name": "stdout",
     "output_type": "stream",
     "text": [
      "<class 'pandas.core.frame.DataFrame'>\n",
      "RangeIndex: 546988 entries, 0 to 546987\n",
      "Data columns (total 16 columns):\n",
      " #   Column        Non-Null Count   Dtype         \n",
      "---  ------        --------------   -----         \n",
      " 0   year          546988 non-null  int64         \n",
      " 1   make          546988 non-null  object        \n",
      " 2   model         546988 non-null  object        \n",
      " 3   trim          546988 non-null  object        \n",
      " 4   body          546988 non-null  object        \n",
      " 5   transmission  546988 non-null  object        \n",
      " 6   vin           546988 non-null  object        \n",
      " 7   state         546988 non-null  object        \n",
      " 8   condition     546988 non-null  float64       \n",
      " 9   odometer      546988 non-null  int64         \n",
      " 10  color         546988 non-null  object        \n",
      " 11  interior      546988 non-null  object        \n",
      " 12  seller        546988 non-null  object        \n",
      " 13  mmr           546988 non-null  int64         \n",
      " 14  sellingprice  546988 non-null  int64         \n",
      " 15  saledate      546988 non-null  datetime64[ns]\n",
      "dtypes: datetime64[ns](1), float64(1), int64(4), object(10)\n",
      "memory usage: 66.8+ MB\n"
     ]
    }
   ],
   "source": [
    "df.info()"
   ]
  },
  {
   "cell_type": "code",
   "execution_count": 51,
   "id": "db954b22",
   "metadata": {},
   "outputs": [
    {
     "data": {
      "text/plain": [
       "year                34\n",
       "make                94\n",
       "model              960\n",
       "trim              1922\n",
       "body                87\n",
       "transmission         3\n",
       "vin             538772\n",
       "state               38\n",
       "condition           41\n",
       "odometer        169481\n",
       "color               21\n",
       "interior            18\n",
       "seller           12962\n",
       "mmr               1101\n",
       "sellingprice      1865\n",
       "saledate          3721\n",
       "dtype: int64"
      ]
     },
     "execution_count": 51,
     "metadata": {},
     "output_type": "execute_result"
    }
   ],
   "source": [
    "df.nunique(axis=0)"
   ]
  },
  {
   "cell_type": "code",
   "execution_count": 52,
   "id": "9070d695",
   "metadata": {},
   "outputs": [
    {
     "data": {
      "text/html": [
       "<div>\n",
       "<style scoped>\n",
       "    .dataframe tbody tr th:only-of-type {\n",
       "        vertical-align: middle;\n",
       "    }\n",
       "\n",
       "    .dataframe tbody tr th {\n",
       "        vertical-align: top;\n",
       "    }\n",
       "\n",
       "    .dataframe thead th {\n",
       "        text-align: right;\n",
       "    }\n",
       "</style>\n",
       "<table border=\"1\" class=\"dataframe\">\n",
       "  <thead>\n",
       "    <tr style=\"text-align: right;\">\n",
       "      <th></th>\n",
       "      <th>year</th>\n",
       "      <th>condition</th>\n",
       "      <th>odometer</th>\n",
       "      <th>mmr</th>\n",
       "      <th>sellingprice</th>\n",
       "    </tr>\n",
       "  </thead>\n",
       "  <tbody>\n",
       "    <tr>\n",
       "      <th>count</th>\n",
       "      <td>546988.000000</td>\n",
       "      <td>546988.000000</td>\n",
       "      <td>546988.000000</td>\n",
       "      <td>546988.000000</td>\n",
       "      <td>546988.000000</td>\n",
       "    </tr>\n",
       "    <tr>\n",
       "      <th>mean</th>\n",
       "      <td>2010.134301</td>\n",
       "      <td>3.424564</td>\n",
       "      <td>67262.638186</td>\n",
       "      <td>13915.646367</td>\n",
       "      <td>13764.328400</td>\n",
       "    </tr>\n",
       "    <tr>\n",
       "      <th>std</th>\n",
       "      <td>3.906344</td>\n",
       "      <td>0.949415</td>\n",
       "      <td>52793.170543</td>\n",
       "      <td>9674.331700</td>\n",
       "      <td>9747.756735</td>\n",
       "    </tr>\n",
       "    <tr>\n",
       "      <th>min</th>\n",
       "      <td>1982.000000</td>\n",
       "      <td>1.000000</td>\n",
       "      <td>1.000000</td>\n",
       "      <td>25.000000</td>\n",
       "      <td>1.000000</td>\n",
       "    </tr>\n",
       "    <tr>\n",
       "      <th>25%</th>\n",
       "      <td>2008.000000</td>\n",
       "      <td>2.700000</td>\n",
       "      <td>28050.750000</td>\n",
       "      <td>7375.000000</td>\n",
       "      <td>7100.000000</td>\n",
       "    </tr>\n",
       "    <tr>\n",
       "      <th>50%</th>\n",
       "      <td>2012.000000</td>\n",
       "      <td>3.600000</td>\n",
       "      <td>51222.000000</td>\n",
       "      <td>12400.000000</td>\n",
       "      <td>12300.000000</td>\n",
       "    </tr>\n",
       "    <tr>\n",
       "      <th>75%</th>\n",
       "      <td>2013.000000</td>\n",
       "      <td>4.200000</td>\n",
       "      <td>97391.250000</td>\n",
       "      <td>18450.000000</td>\n",
       "      <td>18300.000000</td>\n",
       "    </tr>\n",
       "    <tr>\n",
       "      <th>max</th>\n",
       "      <td>2015.000000</td>\n",
       "      <td>5.000000</td>\n",
       "      <td>999999.000000</td>\n",
       "      <td>182000.000000</td>\n",
       "      <td>230000.000000</td>\n",
       "    </tr>\n",
       "  </tbody>\n",
       "</table>\n",
       "</div>"
      ],
      "text/plain": [
       "                year      condition       odometer            mmr  \\\n",
       "count  546988.000000  546988.000000  546988.000000  546988.000000   \n",
       "mean     2010.134301       3.424564   67262.638186   13915.646367   \n",
       "std         3.906344       0.949415   52793.170543    9674.331700   \n",
       "min      1982.000000       1.000000       1.000000      25.000000   \n",
       "25%      2008.000000       2.700000   28050.750000    7375.000000   \n",
       "50%      2012.000000       3.600000   51222.000000   12400.000000   \n",
       "75%      2013.000000       4.200000   97391.250000   18450.000000   \n",
       "max      2015.000000       5.000000  999999.000000  182000.000000   \n",
       "\n",
       "        sellingprice  \n",
       "count  546988.000000  \n",
       "mean    13764.328400  \n",
       "std      9747.756735  \n",
       "min         1.000000  \n",
       "25%      7100.000000  \n",
       "50%     12300.000000  \n",
       "75%     18300.000000  \n",
       "max    230000.000000  "
      ]
     },
     "execution_count": 52,
     "metadata": {},
     "output_type": "execute_result"
    }
   ],
   "source": [
    "df.describe()"
   ]
  },
  {
   "cell_type": "code",
   "execution_count": null,
   "id": "2088213c",
   "metadata": {},
   "outputs": [],
   "source": []
  }
 ],
 "metadata": {
  "kernelspec": {
   "display_name": "Python 3 (ipykernel)",
   "language": "python",
   "name": "python3"
  },
  "language_info": {
   "codemirror_mode": {
    "name": "ipython",
    "version": 3
   },
   "file_extension": ".py",
   "mimetype": "text/x-python",
   "name": "python",
   "nbconvert_exporter": "python",
   "pygments_lexer": "ipython3",
   "version": "3.9.12"
  }
 },
 "nbformat": 4,
 "nbformat_minor": 5
}
